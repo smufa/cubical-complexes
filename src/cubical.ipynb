{
 "cells": [
  {
   "cell_type": "code",
   "execution_count": 72,
   "metadata": {},
   "outputs": [
    {
     "data": {
      "text/plain": [
       "simultaneous_reduce (generic function with 1 method)"
      ]
     },
     "metadata": {},
     "output_type": "display_data"
    }
   ],
   "source": [
    "include(\"cubical_complex.jl\")\n",
    "include(\"./quaterunions/simplicial_homology_q.jl\")"
   ]
  },
  {
   "cell_type": "code",
   "execution_count": 73,
   "metadata": {},
   "outputs": [
    {
     "name": "stdout",
     "output_type": "stream",
     "text": [
      "(6, 2, 7)\n",
      "(5, 4, 3)\n",
      "Vertices: 0\n",
      "Edges: 0\n",
      "Squares: 0\n",
      "Cubes: 80\n"
     ]
    }
   ],
   "source": [
    "file_path = \"../resources/snakesIm/1.im\"\n",
    "file_grid = parse_im_data(file_path)\n",
    "\n",
    "torus = zeros(Int, 10,10,10)\n",
    "torus[2:7,2:7,2:7] .= 1\n",
    "torus[4:5,1:10,4:5] .= 0\n",
    "\n",
    "# create cubical complex and visualize\n",
    "(vertices, edges, squares, cubes) = cubical_complex(torus) |> maximal_sxes\n",
    "println(\"Vertices: \", length(vertices))\n",
    "println(\"Edges: \", length(edges))\n",
    "println(\"Squares: \", length(squares))\n",
    "println(\"Cubes: \", length(cubes))\n",
    "# println(\"Euler: \", length(vertices) - length(edges) + length(squares) - length(cubes))"
   ]
  }
 ],
 "metadata": {
  "kernelspec": {
   "display_name": "Julia 1.11.0-rc3",
   "language": "julia",
   "name": "julia-1.11"
  },
  "language_info": {
   "file_extension": ".jl",
   "mimetype": "application/julia",
   "name": "julia",
   "version": "1.11.0-rc3"
  }
 },
 "nbformat": 4,
 "nbformat_minor": 2
}
